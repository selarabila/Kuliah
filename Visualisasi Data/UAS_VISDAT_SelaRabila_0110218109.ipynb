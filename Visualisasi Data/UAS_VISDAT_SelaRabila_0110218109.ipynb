{
  "nbformat": 4,
  "nbformat_minor": 0,
  "metadata": {
    "colab": {
      "name": "UAS_VISDAT_SelaRabila_0110218109.ipynb",
      "provenance": [],
      "collapsed_sections": []
    },
    "kernelspec": {
      "display_name": "Python 3",
      "name": "python3"
    },
    "language_info": {
      "name": "python"
    }
  },
  "cells": [
    {
      "cell_type": "code",
      "metadata": {
        "id": "wD92eSeUeIP4"
      },
      "source": [
        "import matplotlib\n",
        "from matplotlib import transforms, pyplot as plt\n",
        "import numpy as np\n",
        "\n",
        "%matplotlib inline\n",
        "#%matplotlib"
      ],
      "execution_count": 136,
      "outputs": []
    },
    {
      "cell_type": "code",
      "metadata": {
        "id": "NnzpDwK6eoNG"
      },
      "source": [
        "# define colors\n",
        "GRAY1, GRAY2, GRAY3 = '#231F20', '#414040', '#555655'\n",
        "GRAY4, GRAY5, GRAY6 = '#646369', '#76787B', '#828282'\n",
        "GRAY7, GRAY8, GRAY9 = '#929497', '#A6A6A5', '#BFBEBE'\n",
        "BLUE1, BLUE2, BLUE3, BLUE4 = '#174A7E', '#4A81BF', '#94B2D7', '#94AFC5'\n",
        "RED1, RED2 = '#C3514E', '#E6BAB7'\n",
        "GREEN1, GREEN2 = '#0C8040', '#9ABB59'\n",
        "ORANGE1 = '#F79747'"
      ],
      "execution_count": 137,
      "outputs": []
    },
    {
      "cell_type": "code",
      "metadata": {
        "id": "IuSnTpJqerT6"
      },
      "source": [
        "X = ['Q1', 'Q2', 'Q3', 'Q4', 'Q1', 'Q2', 'Q3', 'Q4', 'Q1', 'Q2', 'Q3']\n",
        "XT = np.array (['2013', '2014', '2015'])\n",
        "YA = np.array ([5,2,5,4, 5,5,12,15, 20,33,42]) #miss\n",
        "YT = np.array ([54,63,67,68, 75,60,59,63, 69,64,48]) #meet\n",
        "YP = np.array ([41,35,28,28, 20, 35, 29, 22, 11, 3, 10]) #exceed"
      ],
      "execution_count": 138,
      "outputs": []
    },
    {
      "cell_type": "code",
      "metadata": {
        "colab": {
          "base_uri": "https://localhost:8080/",
          "height": 425
        },
        "id": "zUAV4nIGevxM",
        "outputId": "7772a449-617b-4e7f-a477-37f803258699"
      },
      "source": [
        "fig, ax = plt.subplots(1, figsize=(9, 5))\n",
        "\n",
        "red_bars = plt.bar(list(range(0, 11)), YA, width=0.68, color=RED1, \n",
        "        edgecolor=BLUE4, linewidth=0.9)\n",
        "plt.bar(list(range(0, 11)), YT, width=0.68, bottom = YA, color=GRAY8, \n",
        "        edgecolor=BLUE4, linewidth=0.9)\n",
        "plt.bar(list(range(0, 11)), YP, width=0.68, bottom = YA+YT,color=GRAY4, \n",
        "        edgecolor=BLUE4, linewidth=0.9)\n",
        "\n",
        "for i, b in enumerate(red_bars):\n",
        "  if YA[i] == 0:\n",
        "    continue\n",
        "  x=b.get_x()+ b.get_width()/2\n",
        "  y=b.get_y() + b.get_height()-20\n",
        "  ax1.text(x,y,\n",
        "           str(YA[i]),\n",
        "           fontsize=13,\n",
        "           fontweight='bold',\n",
        "           horizontalalignment='center',\n",
        "           color=GRAY2)\n",
        "\n",
        "plt.setp(ax , xticks=list(range(0, 11)), xticklabels=X)\n",
        "\n",
        "ax.spines['right'].set_visible(False)\n",
        "ax.spines['left'].set_visible(False)\n",
        "ax.spines['top'].set_visible(False)\n",
        "ax.spines['bottom'].set_visible(False)\n",
        "\n",
        "ax.tick_params(axis='y', colors=GRAY5)\n",
        "ax.tick_params(axis='x', colors=GRAY5)\n",
        "\n",
        "for item in ax1.get_xticklabels():\n",
        "    item.set_fontsize(16)\n",
        "    item.set_color(GRAY4)\n",
        "    # use trasformations to shift x tick labels slightly down\n",
        "    offset = transforms.ScaledTranslation(0, -0.07, fig.dpi_scale_trans)\n",
        "    item.set_transform(item.get_transform() + offset)\n",
        "\n",
        "for item in ax1.get_yticklabels():\n",
        "    item.set_fontsize(16)\n",
        "    item.set_color(GRAY7)\n",
        "    # use trasformations to shift y tick labels slightly left\n",
        "    offset = transforms.ScaledTranslation(-0.07, 0, fig.dpi_scale_trans)\n",
        "    item.set_transform(item.get_transform() + offset)\n",
        "\n",
        "plt.text(6.5, 115,\n",
        "         'As of Q3 2015, ',\n",
        "         fontsize=13, fontweight='bold', color=GRAY4)\n",
        "\n",
        "plt.text(6.5, 110,\n",
        "         '                         more than 1/3 of \\nproject are missing goals',\n",
        "         fontsize=13, fontweight='bold', color=RED1)\n",
        "\n",
        "plt.text(-1.5, -20,\n",
        "         'Data Source : XYZ Dashboard: the total number of projects has increased'\n",
        "         ' over time from 230 in early 2013 to nearly 270 in Q3 2015.',\n",
        "         fontsize=10, color=GRAY4)\n",
        "\n",
        "plt.text(-0.9, 120, \n",
        "         'Goal attainment over tim', fontsize=18, color=GRAY1)\n",
        "\n",
        "#plt.title('Goal attainment over tim', loc='left')\n",
        "ax.set_xlabel('           2013                                           2014                                           2015')\n",
        "plt.ylabel('% of total projects', rotation='vertical')\n",
        "\n",
        "legend_label = ['Miss', 'Meet', 'Exceed']\n",
        "plt.legend(legend_label, ncol = 3, bbox_to_anchor=([0, 0, 0.43, 1.14]), frameon = False)"
      ],
      "execution_count": 282,
      "outputs": [
        {
          "output_type": "execute_result",
          "data": {
            "text/plain": [
              "<matplotlib.legend.Legend at 0x7ff341fbb090>"
            ]
          },
          "metadata": {
            "tags": []
          },
          "execution_count": 282
        },
        {
          "output_type": "display_data",
          "data": {
            "image/png": "[encoded data removed]",
            "text/plain": [
              "<Figure size 648x360 with 1 Axes>"
            ]
          },
          "metadata": {
            "tags": [],
            "needs_background": "light"
          }
        }
      ]
    }
  ]
}